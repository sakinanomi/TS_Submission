{
 "cells": [
  {
   "cell_type": "raw",
   "id": "68d48ee1",
   "metadata": {},
   "source": [
    "Q.1 The sales of a company (in million dollars) for each year are shown in the table below.\n",
    "\n",
    "x (year)\t2005\t2006\t2007\t2008\t2009 \n",
    "y (sales)\t12\t     19\t     29\t     37\t     45\n",
    "\n",
    "Use Linear Regression model to predict the sales for the year 2011\n"
   ]
  },
  {
   "cell_type": "code",
   "execution_count": 26,
   "id": "2a51bdb2",
   "metadata": {},
   "outputs": [],
   "source": [
    "import pandas as pd\n",
    "import numpy as np\n",
    "import matplotlib.pyplot as plt\n",
    "%matplotlib inline\n",
    "\n",
    "from sklearn.linear_model import LinearRegression"
   ]
  },
  {
   "cell_type": "markdown",
   "id": "a076601d",
   "metadata": {},
   "source": [
    "### Step 1:create the dataframe"
   ]
  },
  {
   "cell_type": "code",
   "execution_count": 58,
   "id": "705edb7d",
   "metadata": {},
   "outputs": [],
   "source": [
    "x=[\"2005\",\"2006\",\"2007\",\"2008\",\"2009\"]\n",
    "y=[12,19,29,37,45]"
   ]
  },
  {
   "cell_type": "code",
   "execution_count": 59,
   "id": "d47a3cd7",
   "metadata": {
    "scrolled": true
   },
   "outputs": [
    {
     "data": {
      "text/html": [
       "<div>\n",
       "<style scoped>\n",
       "    .dataframe tbody tr th:only-of-type {\n",
       "        vertical-align: middle;\n",
       "    }\n",
       "\n",
       "    .dataframe tbody tr th {\n",
       "        vertical-align: top;\n",
       "    }\n",
       "\n",
       "    .dataframe thead th {\n",
       "        text-align: right;\n",
       "    }\n",
       "</style>\n",
       "<table border=\"1\" class=\"dataframe\">\n",
       "  <thead>\n",
       "    <tr style=\"text-align: right;\">\n",
       "      <th></th>\n",
       "      <th>year</th>\n",
       "      <th>sales</th>\n",
       "    </tr>\n",
       "  </thead>\n",
       "  <tbody>\n",
       "    <tr>\n",
       "      <th>0</th>\n",
       "      <td>2005</td>\n",
       "      <td>12</td>\n",
       "    </tr>\n",
       "    <tr>\n",
       "      <th>1</th>\n",
       "      <td>2006</td>\n",
       "      <td>19</td>\n",
       "    </tr>\n",
       "    <tr>\n",
       "      <th>2</th>\n",
       "      <td>2007</td>\n",
       "      <td>29</td>\n",
       "    </tr>\n",
       "    <tr>\n",
       "      <th>3</th>\n",
       "      <td>2008</td>\n",
       "      <td>37</td>\n",
       "    </tr>\n",
       "    <tr>\n",
       "      <th>4</th>\n",
       "      <td>2009</td>\n",
       "      <td>45</td>\n",
       "    </tr>\n",
       "  </tbody>\n",
       "</table>\n",
       "</div>"
      ],
      "text/plain": [
       "   year  sales\n",
       "0  2005     12\n",
       "1  2006     19\n",
       "2  2007     29\n",
       "3  2008     37\n",
       "4  2009     45"
      ]
     },
     "execution_count": 59,
     "metadata": {},
     "output_type": "execute_result"
    }
   ],
   "source": [
    "df=pd.DataFrame(list(zip(x, y)),\n",
    "               columns =['year', 'sales'])\n",
    "df"
   ]
  },
  {
   "cell_type": "markdown",
   "id": "c25beadc",
   "metadata": {},
   "source": [
    "### Step2: Analyize the dataframe"
   ]
  },
  {
   "cell_type": "code",
   "execution_count": 60,
   "id": "83b6149b",
   "metadata": {},
   "outputs": [
    {
     "data": {
      "text/plain": [
       "(5, 2)"
      ]
     },
     "execution_count": 60,
     "metadata": {},
     "output_type": "execute_result"
    }
   ],
   "source": [
    "df.shape"
   ]
  },
  {
   "cell_type": "code",
   "execution_count": 61,
   "id": "98a918dd",
   "metadata": {},
   "outputs": [
    {
     "data": {
      "text/plain": [
       "dtype('O')"
      ]
     },
     "execution_count": 61,
     "metadata": {},
     "output_type": "execute_result"
    }
   ],
   "source": [
    "df.year.dtype"
   ]
  },
  {
   "cell_type": "code",
   "execution_count": 62,
   "id": "7dfe2bcc",
   "metadata": {},
   "outputs": [
    {
     "data": {
      "text/plain": [
       "dtype('int64')"
      ]
     },
     "execution_count": 62,
     "metadata": {},
     "output_type": "execute_result"
    }
   ],
   "source": [
    "df.sales.dtype"
   ]
  },
  {
   "cell_type": "markdown",
   "id": "4bb8cda8",
   "metadata": {},
   "source": [
    "### Step 3: visualize the data"
   ]
  },
  {
   "cell_type": "code",
   "execution_count": 63,
   "id": "5f84fd49",
   "metadata": {},
   "outputs": [
    {
     "data": {
      "image/png": "[encoded data removed]",
      "text/plain": [
       "<Figure size 432x288 with 1 Axes>"
      ]
     },
     "metadata": {
      "needs_background": "light"
     },
     "output_type": "display_data"
    }
   ],
   "source": [
    "plt.plot(df.year,df.sales)\n",
    "plt.xlabel(\"year\")\n",
    "plt.ylabel(\"Sales\")\n",
    "plt.title(\"Sales per year\")\n",
    "plt.show()"
   ]
  },
  {
   "cell_type": "markdown",
   "id": "00bd7cb1",
   "metadata": {},
   "source": [
    "### we see there is linear relation between the variables, and hence we can use linear regression"
   ]
  },
  {
   "cell_type": "code",
   "execution_count": 64,
   "id": "595c5db3",
   "metadata": {},
   "outputs": [],
   "source": [
    "X=df[['year']]"
   ]
  },
  {
   "cell_type": "code",
   "execution_count": 65,
   "id": "2c217451",
   "metadata": {},
   "outputs": [],
   "source": [
    "Y=df[['sales']]"
   ]
  },
  {
   "cell_type": "code",
   "execution_count": 66,
   "id": "83c454cb",
   "metadata": {},
   "outputs": [],
   "source": [
    "model=LinearRegression()"
   ]
  },
  {
   "cell_type": "code",
   "execution_count": 67,
   "id": "0dcc41c2",
   "metadata": {},
   "outputs": [
    {
     "data": {
      "text/plain": [
       "LinearRegression()"
      ]
     },
     "execution_count": 67,
     "metadata": {},
     "output_type": "execute_result"
    }
   ],
   "source": [
    "model.fit(X,Y)"
   ]
  },
  {
   "cell_type": "code",
   "execution_count": 68,
   "id": "a3257b0a",
   "metadata": {},
   "outputs": [
    {
     "data": {
      "text/plain": [
       "array([[8.4]])"
      ]
     },
     "execution_count": 68,
     "metadata": {},
     "output_type": "execute_result"
    }
   ],
   "source": [
    "model.coef_"
   ]
  },
  {
   "cell_type": "code",
   "execution_count": 69,
   "id": "81e5b9af",
   "metadata": {},
   "outputs": [
    {
     "data": {
      "text/plain": [
       "array([-16830.4])"
      ]
     },
     "execution_count": 69,
     "metadata": {},
     "output_type": "execute_result"
    }
   ],
   "source": [
    "model.intercept_"
   ]
  },
  {
   "cell_type": "code",
   "execution_count": 71,
   "id": "dd5b7b0c",
   "metadata": {},
   "outputs": [],
   "source": [
    "import warnings\n",
    "warnings.filterwarnings(\"ignore\")"
   ]
  },
  {
   "cell_type": "code",
   "execution_count": 72,
   "id": "91cee920",
   "metadata": {},
   "outputs": [
    {
     "data": {
      "text/plain": [
       "array([[62.]])"
      ]
     },
     "execution_count": 72,
     "metadata": {},
     "output_type": "execute_result"
    }
   ],
   "source": [
    "model.predict([[2011]])"
   ]
  },
  {
   "cell_type": "markdown",
   "id": "17f31d7a",
   "metadata": {},
   "source": [
    "### Compare the graphs"
   ]
  },
  {
   "cell_type": "code",
   "execution_count": 74,
   "id": "0043b62a",
   "metadata": {
    "scrolled": true
   },
   "outputs": [
    {
     "data": {
      "image/png": "[encoded data removed]",
      "text/plain": [
       "<Figure size 432x288 with 1 Axes>"
      ]
     },
     "metadata": {
      "needs_background": "light"
     },
     "output_type": "display_data"
    }
   ],
   "source": [
    "plt.scatter(df.year,df.sales)\n",
    "plt.plot(df.year,model.predict(df[['year']]),color='red')\n",
    "plt.show()"
   ]
  },
  {
   "cell_type": "markdown",
   "id": "09949545",
   "metadata": {},
   "source": [
    "### End"
   ]
  },
  {
   "cell_type": "raw",
   "id": "29239eb4",
   "metadata": {},
   "source": [
    "Q.2 Take any scanned document of ur choice and use Pytesseract library with integration of Vader library to extract the sentiment of text present in scanned documents? "
   ]
  },
  {
   "cell_type": "markdown",
   "id": "54bedddc",
   "metadata": {},
   "source": [
    "### Step 1:Function to extract text from images"
   ]
  },
  {
   "cell_type": "code",
   "execution_count": 75,
   "id": "8069c09f",
   "metadata": {},
   "outputs": [],
   "source": [
    "from PIL import Image\n",
    "from pytesseract import pytesseract\n"
   ]
  },
  {
   "cell_type": "code",
   "execution_count": 97,
   "id": "d7ba3f4a",
   "metadata": {},
   "outputs": [],
   "source": [
    "def text_from_image(path):\n",
    "    # Defining paths to tesseract.exe\n",
    "    # and the image we would be using\n",
    "    path_to_tesseract = r\"C:\\Program Files\\Tesseract-OCR\\tesseract.exe\"\n",
    "    image_path = path\n",
    "\n",
    "    # Opening the image & storing it in an image object\n",
    "    img = Image.open(image_path)\n",
    "\n",
    "    # Providing the tesseract executable\n",
    "    # location to pytesseract library\n",
    "    pytesseract.tesseract_cmd = path_to_tesseract\n",
    "\n",
    "    # Passing the image object to image_to_string() function\n",
    "    # This function will extract the text from the image\n",
    "    text = pytesseract.image_to_string(img)\n",
    "\n",
    "    # Displaying the extracted text\n",
    "    #print(text)\n",
    "    \n",
    "    return text"
   ]
  },
  {
   "cell_type": "code",
   "execution_count": 101,
   "id": "1678067a",
   "metadata": {},
   "outputs": [
    {
     "name": "stdout",
     "output_type": "stream",
     "text": [
      "* April 10, 2019\n",
      "\n",
      "Full screen ads! Going to reporting to Google about this violation!\n",
      "\n",
      "* July 20,2019\n",
      "awful! It gives off as that will take control over your phone causing you to not to be able to\n",
      "answer your phone , pops up and starts playing even if you are not the phone, basically it\n",
      "controls your entire phone. This is the second time | have tried to uninstall this app.\n",
      "\n",
      "* April 11, 2019 :\n",
      "\n",
      "doesnt have any of the backgrounds as in the ad\n",
      "\n",
      "its camera is awsm really ike this app its better then any other beauty app it picture look real\n",
      "so enjoying this app\n",
      "\n",
      "4 ke He He He June 2, 2019\n",
      "\n",
      "very easy to use. love it!\n",
      "\n",
      "* May 14,2019\n",
      "\n",
      "does not due what ad shows! crappy ap!\n",
      "\n",
      "* March 25,2019\n",
      "\n",
      "greet for photo editing but does not have features that are advetised on their facebook ads,\n",
      "the insert background feature or outfit feature. not only that but i had to uninstall due to ads\n",
      "oping up at random times on my phone. sound and everything would not go away amd\n",
      "everytime i opened ANYTHING\n",
      "\n",
      "Full Review\n",
      "\n"
     ]
    },
    {
     "data": {
      "text/plain": [
       "['',\n",
       " 'April 10, 2019\\n\\nFull screen ads! Going to reporting to Google about this violation!\\n\\n',\n",
       " 'July 20,2019\\nawful! It gives off as that will take control over your phone causing you to not to be able to\\nanswer your phone , pops up and starts playing even if you are not the phone, basically it\\ncontrols your entire phone. This is the second time | have tried to uninstall this app.\\n\\n',\n",
       " 'April 11, 2019 :\\n\\ndoesnt have any of the backgrounds as in the ad\\n\\nits camera is awsm really ike this app its better then any other beauty app it picture look real\\nso enjoying this app\\n\\n4 ke He He He June 2, 2019\\n\\nvery easy to use. love it!\\n\\n',\n",
       " 'May 14,2019\\n\\ndoes not due what ad shows! crappy ap!\\n\\n',\n",
       " 'March 25,2019\\n\\ngreet for photo editing but does not have features that are advetised on their facebook ads,\\nthe insert background feature or outfit feature. not only that but i had to uninstall due to ads\\noping up at random times on my phone. sound and everything would not go away amd\\neverytime i opened ANYTHING\\n\\nFull Review\\n']"
      ]
     },
     "execution_count": 101,
     "metadata": {},
     "output_type": "execute_result"
    }
   ],
   "source": [
    "reviews=text_from_image(r\"review1.png\")\n",
    "print(reviews)\n",
    "lists=reviews.split(\"* \")\n",
    "(lists)"
   ]
  },
  {
   "cell_type": "markdown",
   "id": "0be83997",
   "metadata": {},
   "source": [
    "### Removing \\n from the text"
   ]
  },
  {
   "cell_type": "code",
   "execution_count": 102,
   "id": "45db5a60",
   "metadata": {},
   "outputs": [
    {
     "name": "stdout",
     "output_type": "stream",
     "text": [
      "['', 'April 10, 2019  Full screen ads! Going to reporting to Google about this violation!  ', 'July 20,2019 awful! It gives off as that will take control over your phone causing you to not to be able to answer your phone , pops up and starts playing even if you are not the phone, basically it controls your entire phone. This is the second time | have tried to uninstall this app.  ', 'April 11, 2019 :  doesnt have any of the backgrounds as in the ad  its camera is awsm really ike this app its better then any other beauty app it picture look real so enjoying this app  4 ke He He He June 2, 2019  very easy to use. love it!  ', 'May 14,2019  does not due what ad shows! crappy ap!  ', 'March 25,2019  greet for photo editing but does not have features that are advetised on their facebook ads, the insert background feature or outfit feature. not only that but i had to uninstall due to ads oping up at random times on my phone. sound and everything would not go away amd everytime i opened ANYTHING  Full Review ']\n"
     ]
    }
   ],
   "source": [
    "res = []\n",
    "\n",
    "for x in lists:\n",
    "    res.append(x.replace(\"\\n\", \" \"))\n",
    "\n",
    "print(res)"
   ]
  },
  {
   "cell_type": "markdown",
   "id": "41c87ba1",
   "metadata": {},
   "source": [
    "### removing the dates "
   ]
  },
  {
   "cell_type": "code",
   "execution_count": 126,
   "id": "0422ca43",
   "metadata": {},
   "outputs": [
    {
     "name": "stdout",
     "output_type": "stream",
     "text": [
      "['', ' ,  Full screen ads! Going to reporting to Google about this violation!', ' , awful! It gives off as that will take control over your phone causing you to not to be able to answer your phone , pops up and starts playing even if you are not the phone, basically it controls your entire phone. This is the second time | have tried to uninstall this app.', ' ,  : doesnt have any of the backgrounds as in the ad its camera is awsm really ike this app its better then any other beauty app it picture look real so enjoying this app  ke He He He ,  very easy to use. love it!', ' , does not due what ad shows! crappy ap!', ' , greet for photo editing but does not have features that are advetised on their facebook ads, the insert background feature or outfit feature. not only that but i had to uninstall due to ads oping up at random times on my phone. sound and everything would not go away amd everytime i opened ANYTHING Full Review']\n"
     ]
    }
   ],
   "source": [
    "final=[]\n",
    "for string in res:\n",
    "    t=string.split()\n",
    "    ans=\"\"\n",
    "    for ele in t:\n",
    "        if(ele==\"January\"or ele==\"February\"or ele==\"March\"or ele==\"April\"or ele==\"May\"or ele==\"June\" or ele==\"July\" or ele==\"August\"or ele==\"September\"or ele==\"October\"or ele==\"November\"or ele==\"December\"):\n",
    "            continue\n",
    "        else:\n",
    "            ans+=\" \"+ele\n",
    "    for ele in ans:\n",
    "        if ele.isdigit():\n",
    "            ans = ans.replace(ele, \"\")\n",
    "            \n",
    "    final.append(ans)\n",
    "print(final)\n",
    "        "
   ]
  },
  {
   "cell_type": "markdown",
   "id": "335a986d",
   "metadata": {},
   "source": [
    "### Sentiment Analysis on the reviews"
   ]
  },
  {
   "cell_type": "code",
   "execution_count": 129,
   "id": "b9eb8247",
   "metadata": {},
   "outputs": [],
   "source": [
    "# import SentimentIntensityAnalyzer class\n",
    "# from vaderSentiment.vaderSentiment module.\n",
    "from vaderSentiment.vaderSentiment import SentimentIntensityAnalyzer\n",
    " "
   ]
  },
  {
   "cell_type": "code",
   "execution_count": 130,
   "id": "fe102055",
   "metadata": {},
   "outputs": [],
   "source": [
    "# function to print sentiments\n",
    "# of the sentence.\n",
    "def sentiment_scores(sentence):\n",
    " \n",
    "    # Create a SentimentIntensityAnalyzer object.\n",
    "    sid_obj = SentimentIntensityAnalyzer()\n",
    " \n",
    "    # polarity_scores method of SentimentIntensityAnalyzer object gives a sentiment dictionary.\n",
    "    # which contains pos, neg, neu, and compound scores.\n",
    "    sentiment_dict = sid_obj.polarity_scores(sentence)\n",
    "     \n",
    "    print(\"Overall sentiment dictionary is : \", sentiment_dict)\n",
    "    print(\"sentence is \", sentiment_dict['neg']*100, \"% Negative\")\n",
    "    print(\"sentence is \", sentiment_dict['neu']*100, \"% Neutral\")\n",
    "    print(\"sentence was rated as \", sentiment_dict['pos']*100, \"% Positive\")\n",
    " \n",
    "    print(\"Sentence Overall Rated As\", end = \" \")\n",
    " \n",
    "    # decide sentiment as positive, negative and neutral\n",
    "    if sentiment_dict['compound'] >= 0.05 :\n",
    "        print(\"Positive\")\n",
    " \n",
    "    elif sentiment_dict['compound'] <= - 0.05 :\n",
    "        print(\"Negative\")\n",
    " \n",
    "    else :\n",
    "        print(\"Neutral\")\n",
    " "
   ]
  },
  {
   "cell_type": "code",
   "execution_count": 132,
   "id": "e883d959",
   "metadata": {},
   "outputs": [
    {
     "name": "stdout",
     "output_type": "stream",
     "text": [
      "Overall sentiment dictionary is :  {'neg': 0.0, 'neu': 0.0, 'pos': 0.0, 'compound': 0.0}\n",
      "sentence was rated as  0.0 % Negative\n",
      "sentence was rated as  0.0 % Neutral\n",
      "sentence was rated as  0.0 % Positive\n",
      "Sentence Overall Rated As Neutral\n",
      "***************\n",
      "Overall sentiment dictionary is :  {'neg': 0.283, 'neu': 0.717, 'pos': 0.0, 'compound': -0.6524}\n",
      "sentence was rated as  28.299999999999997 % Negative\n",
      "sentence was rated as  71.7 % Neutral\n",
      "sentence was rated as  0.0 % Positive\n",
      "Sentence Overall Rated As Negative\n",
      "***************\n",
      "Overall sentiment dictionary is :  {'neg': 0.057, 'neu': 0.912, 'pos': 0.031, 'compound': -0.3595}\n",
      "sentence was rated as  5.7 % Negative\n",
      "sentence was rated as  91.2 % Neutral\n",
      "sentence was rated as  3.1 % Positive\n",
      "Sentence Overall Rated As Negative\n",
      "***************\n",
      "Overall sentiment dictionary is :  {'neg': 0.0, 'neu': 0.686, 'pos': 0.314, 'compound': 0.9626}\n",
      "sentence was rated as  0.0 % Negative\n",
      "sentence was rated as  68.60000000000001 % Neutral\n",
      "sentence was rated as  31.4 % Positive\n",
      "Sentence Overall Rated As Positive\n",
      "***************\n",
      "Overall sentiment dictionary is :  {'neg': 0.343, 'neu': 0.657, 'pos': 0.0, 'compound': -0.6351}\n",
      "sentence was rated as  34.300000000000004 % Negative\n",
      "sentence was rated as  65.7 % Neutral\n",
      "sentence was rated as  0.0 % Positive\n",
      "Sentence Overall Rated As Negative\n",
      "***************\n",
      "Overall sentiment dictionary is :  {'neg': 0.0, 'neu': 0.971, 'pos': 0.029, 'compound': 0.1655}\n",
      "sentence was rated as  0.0 % Negative\n",
      "sentence was rated as  97.1 % Neutral\n",
      "sentence was rated as  2.9000000000000004 % Positive\n",
      "Sentence Overall Rated As Positive\n",
      "***************\n"
     ]
    }
   ],
   "source": [
    "for sen in final:\n",
    "    sentiment_scores(sen)\n",
    "    print(\"***************\")"
   ]
  },
  {
   "cell_type": "code",
   "execution_count": null,
   "id": "0d3a75f0",
   "metadata": {},
   "outputs": [],
   "source": []
  },
  {
   "cell_type": "code",
   "execution_count": null,
   "id": "e924f162",
   "metadata": {},
   "outputs": [],
   "source": []
  }
 ],
 "metadata": {
  "kernelspec": {
   "display_name": "Python 3 (ipykernel)",
   "language": "python",
   "name": "python3"
  },
  "language_info": {
   "codemirror_mode": {
    "name": "ipython",
    "version": 3
   },
   "file_extension": ".py",
   "mimetype": "text/x-python",
   "name": "python",
   "nbconvert_exporter": "python",
   "pygments_lexer": "ipython3",
   "version": "3.9.2"
  }
 },
 "nbformat": 4,
 "nbformat_minor": 5
}
